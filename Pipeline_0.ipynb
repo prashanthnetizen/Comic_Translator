{
 "cells": [
  {
   "cell_type": "code",
   "execution_count": 1,
   "metadata": {},
   "outputs": [],
   "source": [
    "import numpy as np\n",
    "import cv2\n",
    "from config import *\n",
    "\n",
    "IMAGE_PATH=\"iron/03.jpg\"\n",
    "img  = cv2.imread(IMAGE_PATH)"
   ]
  },
  {
   "cell_type": "code",
   "execution_count": 2,
   "metadata": {},
   "outputs": [],
   "source": [
    "# Converting the image from BGR format to HSV\n",
    "hsv_image = cv2.cvtColor(img, cv2.COLOR_BGR2HSV)"
   ]
  },
  {
   "cell_type": "code",
   "execution_count": 3,
   "metadata": {},
   "outputs": [],
   "source": [
    "# For white color\n",
    "max_white = np.array([0,0,255])\n",
    "min_white = np.array([0,0,230])\n",
    "final_mask = cv2.inRange(hsv_image, min_white, max_white)"
   ]
  },
  {
   "cell_type": "code",
   "execution_count": 4,
   "metadata": {},
   "outputs": [],
   "source": [
    "# Fetching the matching components in the original image\n",
    "result = cv2.bitwise_and(img,img, mask=final_mask)"
   ]
  },
  {
   "cell_type": "code",
   "execution_count": 5,
   "metadata": {},
   "outputs": [],
   "source": [
    "# Deriving Contours for the Image\n",
    "contours, hierarchy = cv2.findContours(final_mask, cv2.RETR_EXTERNAL, cv2.CHAIN_APPROX_SIMPLE)"
   ]
  },
  {
   "cell_type": "code",
   "execution_count": 6,
   "metadata": {},
   "outputs": [
    {
     "data": {
      "text/plain": [
       "array([[[  0, 255,   0],\n",
       "        [  0, 255,   0],\n",
       "        [  0, 255,   0],\n",
       "        ...,\n",
       "        [ 77,  84,  77],\n",
       "        [ 77,  84,  77],\n",
       "        [ 77,  84,  77]],\n",
       "\n",
       "       [[  0, 255,   0],\n",
       "        [255, 255, 255],\n",
       "        [255, 255, 255],\n",
       "        ...,\n",
       "        [ 76,  83,  76],\n",
       "        [ 76,  83,  76],\n",
       "        [ 76,  83,  76]],\n",
       "\n",
       "       [[  0, 255,   0],\n",
       "        [255, 255, 255],\n",
       "        [255, 255, 255],\n",
       "        ...,\n",
       "        [ 80,  87,  80],\n",
       "        [ 80,  87,  80],\n",
       "        [ 80,  87,  80]],\n",
       "\n",
       "       ...,\n",
       "\n",
       "       [[  0,   0,   0],\n",
       "        [  0,   0,   0],\n",
       "        [  0,   0,   0],\n",
       "        ...,\n",
       "        [  0,   0,   0],\n",
       "        [  0,   0,   0],\n",
       "        [  0,   0,   0]],\n",
       "\n",
       "       [[  0,   0,   0],\n",
       "        [  0,   0,   0],\n",
       "        [  0,   0,   0],\n",
       "        ...,\n",
       "        [  0,   0,   0],\n",
       "        [  0,   0,   0],\n",
       "        [  0,   0,   0]],\n",
       "\n",
       "       [[  0,   0,   0],\n",
       "        [  0,   0,   0],\n",
       "        [  0,   0,   0],\n",
       "        ...,\n",
       "        [  0,   0,   0],\n",
       "        [  0,   0,   0],\n",
       "        [  0,   0,   0]]], dtype=uint8)"
      ]
     },
     "execution_count": 6,
     "metadata": {},
     "output_type": "execute_result"
    }
   ],
   "source": [
    "# Copying the image and checking whether contours are matching.\n",
    "copy_img = img.copy()\n",
    "cv2.drawContours(copy_img, contours, -1, (0,255,0), 1)"
   ]
  },
  {
   "cell_type": "code",
   "execution_count": 9,
   "metadata": {},
   "outputs": [],
   "source": [
    "show_image(\"contour\", copy_img)"
   ]
  },
  {
   "cell_type": "code",
   "execution_count": 14,
   "metadata": {},
   "outputs": [],
   "source": [
    "# Calculating Area for each Contour\n",
    "area = []\n",
    "for c in sorted_contours:\n",
    "    area.append(cv2.contourArea(c))\n",
    "sorted_contours = sorted(contours, key=cv2.contourArea, reverse=True)"
   ]
  },
  {
   "cell_type": "code",
   "execution_count": 25,
   "metadata": {},
   "outputs": [],
   "source": [
    "# Getting the top Indices of contoured Images that matter\n",
    "top_indices = [i for i in range(len(area)) if area[i] > np.mean(area)]"
   ]
  },
  {
   "cell_type": "code",
   "execution_count": 33,
   "metadata": {},
   "outputs": [],
   "source": [
    "# Cropping out Images that matter\n",
    "image_data = np.zeros((len(top_indices), 4), dtype=int)\n",
    "actual_images = []\n",
    "for i in top_indices:\n",
    "    x,y,w,h = cv2.boundingRect(sorted_contours[i])\n",
    "    ROI = img[y:y+h, x:x+w]\n",
    "    image_data[i] = np.array([x, y, w, h])\n",
    "    actual_images.append(ROI)"
   ]
  },
  {
   "cell_type": "code",
   "execution_count": 28,
   "metadata": {},
   "outputs": [],
   "source": [
    "# Calling the OCR Engine\n",
    "try:\n",
    "    from PIL import Image\n",
    "except ImportError:\n",
    "    import Image\n",
    "import pytesseract\n",
    "\n",
    "# If you don't have tesseract executable in your PATH, include the following:\n",
    "pytesseract.pytesseract.tesseract_cmd = r'D:/Tesseract/tesseract.exe'"
   ]
  },
  {
   "cell_type": "code",
   "execution_count": 34,
   "metadata": {},
   "outputs": [
    {
     "data": {
      "text/plain": [
       "array([[ 680, 2233,  481,  742],\n",
       "       [1251, 1131,  668,  287],\n",
       "       [ 376, 1400,  509,  239],\n",
       "       [ 701,   53,  538,  208],\n",
       "       [1611,   80,  309,  295],\n",
       "       [1686, 1887,  234,  154],\n",
       "       [ 182,   55,  244,  236],\n",
       "       [   0,    0,   16, 1010],\n",
       "       [1114,  233,  171,  129],\n",
       "       [1971, 1129,   17, 1068],\n",
       "       [ 163, 2000,  157,  112]])"
      ]
     },
     "execution_count": 34,
     "metadata": {},
     "output_type": "execute_result"
    }
   ],
   "source": [
    "image_data"
   ]
  },
  {
   "cell_type": "code",
   "execution_count": 40,
   "metadata": {},
   "outputs": [],
   "source": [
    "import pandas as pd\n",
    "final_data = pd.DataFrame(image_data, columns=['x','y','w','h'])"
   ]
  },
  {
   "cell_type": "code",
   "execution_count": 45,
   "metadata": {},
   "outputs": [],
   "source": [
    "sortis = final_data.sort_values(by=['y','x']).index"
   ]
  },
  {
   "cell_type": "code",
   "execution_count": 48,
   "metadata": {},
   "outputs": [
    {
     "data": {
      "text/plain": [
       "Int64Index([7, 3, 6, 4, 8, 9, 1, 2, 5, 10, 0], dtype='int64')"
      ]
     },
     "execution_count": 48,
     "metadata": {},
     "output_type": "execute_result"
    }
   ],
   "source": [
    "sortis"
   ]
  },
  {
   "cell_type": "code",
   "execution_count": 49,
   "metadata": {},
   "outputs": [
    {
     "data": {
      "text/html": [
       "<div>\n",
       "<style scoped>\n",
       "    .dataframe tbody tr th:only-of-type {\n",
       "        vertical-align: middle;\n",
       "    }\n",
       "\n",
       "    .dataframe tbody tr th {\n",
       "        vertical-align: top;\n",
       "    }\n",
       "\n",
       "    .dataframe thead th {\n",
       "        text-align: right;\n",
       "    }\n",
       "</style>\n",
       "<table border=\"1\" class=\"dataframe\">\n",
       "  <thead>\n",
       "    <tr style=\"text-align: right;\">\n",
       "      <th></th>\n",
       "      <th>x</th>\n",
       "      <th>y</th>\n",
       "      <th>w</th>\n",
       "      <th>h</th>\n",
       "    </tr>\n",
       "  </thead>\n",
       "  <tbody>\n",
       "    <tr>\n",
       "      <td>7</td>\n",
       "      <td>0</td>\n",
       "      <td>0</td>\n",
       "      <td>16</td>\n",
       "      <td>1010</td>\n",
       "    </tr>\n",
       "    <tr>\n",
       "      <td>3</td>\n",
       "      <td>701</td>\n",
       "      <td>53</td>\n",
       "      <td>538</td>\n",
       "      <td>208</td>\n",
       "    </tr>\n",
       "    <tr>\n",
       "      <td>6</td>\n",
       "      <td>182</td>\n",
       "      <td>55</td>\n",
       "      <td>244</td>\n",
       "      <td>236</td>\n",
       "    </tr>\n",
       "    <tr>\n",
       "      <td>4</td>\n",
       "      <td>1611</td>\n",
       "      <td>80</td>\n",
       "      <td>309</td>\n",
       "      <td>295</td>\n",
       "    </tr>\n",
       "    <tr>\n",
       "      <td>8</td>\n",
       "      <td>1114</td>\n",
       "      <td>233</td>\n",
       "      <td>171</td>\n",
       "      <td>129</td>\n",
       "    </tr>\n",
       "    <tr>\n",
       "      <td>9</td>\n",
       "      <td>1971</td>\n",
       "      <td>1129</td>\n",
       "      <td>17</td>\n",
       "      <td>1068</td>\n",
       "    </tr>\n",
       "    <tr>\n",
       "      <td>1</td>\n",
       "      <td>1251</td>\n",
       "      <td>1131</td>\n",
       "      <td>668</td>\n",
       "      <td>287</td>\n",
       "    </tr>\n",
       "    <tr>\n",
       "      <td>2</td>\n",
       "      <td>376</td>\n",
       "      <td>1400</td>\n",
       "      <td>509</td>\n",
       "      <td>239</td>\n",
       "    </tr>\n",
       "    <tr>\n",
       "      <td>5</td>\n",
       "      <td>1686</td>\n",
       "      <td>1887</td>\n",
       "      <td>234</td>\n",
       "      <td>154</td>\n",
       "    </tr>\n",
       "    <tr>\n",
       "      <td>10</td>\n",
       "      <td>163</td>\n",
       "      <td>2000</td>\n",
       "      <td>157</td>\n",
       "      <td>112</td>\n",
       "    </tr>\n",
       "    <tr>\n",
       "      <td>0</td>\n",
       "      <td>680</td>\n",
       "      <td>2233</td>\n",
       "      <td>481</td>\n",
       "      <td>742</td>\n",
       "    </tr>\n",
       "  </tbody>\n",
       "</table>\n",
       "</div>"
      ],
      "text/plain": [
       "       x     y    w     h\n",
       "7      0     0   16  1010\n",
       "3    701    53  538   208\n",
       "6    182    55  244   236\n",
       "4   1611    80  309   295\n",
       "8   1114   233  171   129\n",
       "9   1971  1129   17  1068\n",
       "1   1251  1131  668   287\n",
       "2    376  1400  509   239\n",
       "5   1686  1887  234   154\n",
       "10   163  2000  157   112\n",
       "0    680  2233  481   742"
      ]
     },
     "execution_count": 49,
     "metadata": {},
     "output_type": "execute_result"
    }
   ],
   "source": [
    "final_data.sort_values(by=['y','x'])"
   ]
  },
  {
   "cell_type": "code",
   "execution_count": 47,
   "metadata": {},
   "outputs": [
    {
     "name": "stdout",
     "output_type": "stream",
     "text": [
      "\n",
      "YOU DIDN'T\n",
      "BUT NOW\n",
      "DO ANYTHING Vai We DO\n",
      "\n",
      "WRONG, MRS.\n",
      "\n",
      "KNOW, WE NEED\n",
      "WILLIAMS TO LOOK INTO\n",
      "SPECIAL\n",
      "CARE.\n",
      "\n",
      "AND T’LL\n",
      "\n",
      "BE ABLE TO\n",
      "HELP YOU NAVIGATE\n",
      "SOME OF THESE\n",
      "THINGS.\n",
      "\n",
      "BUT\n",
      "IF I MAY\n",
      "OFFER SOME\n",
      "APVICE...\n",
      "em”\n",
      "aH\n",
      "\n",
      "y BUT YOUR\n",
      "PRIMARY CONCERN, PEOPLE OF\n",
      "AS HER PARENTS, HER INTELLECT\n",
      "\n",
      "SHOULD BE TO MAKE \"  someETIMES FIND\n",
      "\n",
      "SURE SHE'S GETTING\n",
      "THEMSELVES GETTING\n",
      "ae) ha BORED WITH THE WORLD\n",
      "- AROUND THEM, CONFUSED\n",
      "\n",
      "BY IT, FRUSTRATED\n",
      "WITH IT...\n",
      "\n",
      "Fano\n",
      "THEY RETREAT\n",
      "INSIDE THEIR\n",
      "\n",
      "OWN MIND. d\n",
      "\n",
      "AND\n",
      "\n",
      "THEN THE--THE\n",
      "\n",
      "ABILITY TO INTERACT\n",
      "STARTS TO\n",
      "\n",
      "SLIP...\n",
      "\n",
      "   \n",
      " \n",
      "\n",
      "S WE\n",
      "FILL HER MIND,\n",
      "IT'S UP TO YOU TO--\n",
      "NOT TO SOUND TOO\n",
      "POETIC--IT IS UP TO\n",
      "YOU TO FILL HER\n",
      "HEART...AND\n",
      "\n",
      "SOUL.\n",
      "\n",
      "   \n",
      "\n",
      "YOU NEED\n",
      "TO SHOW HER\n",
      "THE BEAUTY OF\n",
      "THIS WORLD.\n",
      "REMIND HER\n",
      "TO EXPERIENCE\n",
      "LIFE.\n",
      "\n",
      "  \n",
      "\n",
      "  \n",
      "\n",
      "  \n",
      "  \n",
      "\n",
      "    \n",
      "    \n",
      "   \n",
      "   \n",
      "\n",
      "you\n",
      "WANT TO\n",
      "LOOK HER IN\n",
      "THE EYE EVERY\n",
      "DAY AND\n",
      "SAY...\n"
     ]
    }
   ],
   "source": [
    "for i in sortis:\n",
    "    print(pytesseract.image_to_string(actual_images[i], timeout=4))"
   ]
  },
  {
   "cell_type": "code",
   "execution_count": null,
   "metadata": {},
   "outputs": [],
   "source": []
  }
 ],
 "metadata": {
  "kernelspec": {
   "display_name": "Python 3",
   "language": "python",
   "name": "python3"
  },
  "language_info": {
   "codemirror_mode": {
    "name": "ipython",
    "version": 3
   },
   "file_extension": ".py",
   "mimetype": "text/x-python",
   "name": "python",
   "nbconvert_exporter": "python",
   "pygments_lexer": "ipython3",
   "version": "3.7.3"
  }
 },
 "nbformat": 4,
 "nbformat_minor": 2
}

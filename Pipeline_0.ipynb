{
 "cells": [
  {
   "cell_type": "code",
   "execution_count": 1,
   "metadata": {},
   "outputs": [],
   "source": [
    "import numpy as np\n",
    "import cv2\n",
    "from config import *\n",
    "\n",
    "IMAGE_PATH=\"images/final.jpg\"\n",
    "img  = cv2.imread(IMAGE_PATH)"
   ]
  },
  {
   "cell_type": "code",
   "execution_count": 2,
   "metadata": {},
   "outputs": [],
   "source": [
    "# Converting the image from BGR format to HSV\n",
    "hsv_image = cv2.cvtColor(img, cv2.COLOR_BGR2HSV)"
   ]
  },
  {
   "cell_type": "code",
   "execution_count": 3,
   "metadata": {},
   "outputs": [],
   "source": [
    "# For white color\n",
    "max_white = np.array([0,0,255])\n",
    "min_white = np.array([0,0,230])\n",
    "final_mask = cv2.inRange(hsv_image, min_white, max_white)"
   ]
  },
  {
   "cell_type": "code",
   "execution_count": 4,
   "metadata": {},
   "outputs": [],
   "source": [
    "# Fetching the matching components in the original image\n",
    "result = cv2.bitwise_and(img,img, mask=final_mask)"
   ]
  },
  {
   "cell_type": "code",
   "execution_count": 5,
   "metadata": {},
   "outputs": [],
   "source": [
    "# Deriving Contours for the Image\n",
    "contours, hierarchy = cv2.findContours(final_mask, cv2.RETR_EXTERNAL,  cv2.CHAIN_APPROX_NONE)"
   ]
  },
  {
   "cell_type": "code",
   "execution_count": 6,
   "metadata": {},
   "outputs": [
    {
     "data": {
      "text/plain": [
       "array([[[39, 47, 76],\n",
       "        [39, 47, 76],\n",
       "        [39, 47, 76],\n",
       "        ...,\n",
       "        [ 8,  6,  5],\n",
       "        [ 8,  6,  5],\n",
       "        [ 8,  6,  5]],\n",
       "\n",
       "       [[40, 48, 77],\n",
       "        [40, 48, 77],\n",
       "        [40, 48, 77],\n",
       "        ...,\n",
       "        [ 8,  6,  5],\n",
       "        [ 8,  6,  5],\n",
       "        [ 8,  6,  5]],\n",
       "\n",
       "       [[39, 47, 76],\n",
       "        [39, 47, 76],\n",
       "        [39, 47, 76],\n",
       "        ...,\n",
       "        [ 8,  6,  5],\n",
       "        [ 8,  6,  5],\n",
       "        [ 8,  6,  5]],\n",
       "\n",
       "       ...,\n",
       "\n",
       "       [[ 8,  6,  5],\n",
       "        [ 8,  6,  5],\n",
       "        [ 8,  6,  5],\n",
       "        ...,\n",
       "        [ 8,  6,  5],\n",
       "        [ 8,  6,  5],\n",
       "        [ 8,  6,  5]],\n",
       "\n",
       "       [[ 8,  6,  5],\n",
       "        [ 8,  6,  5],\n",
       "        [ 8,  6,  5],\n",
       "        ...,\n",
       "        [ 8,  6,  5],\n",
       "        [ 8,  6,  5],\n",
       "        [ 8,  6,  5]],\n",
       "\n",
       "       [[ 8,  6,  5],\n",
       "        [ 8,  6,  5],\n",
       "        [ 8,  6,  5],\n",
       "        ...,\n",
       "        [ 8,  6,  5],\n",
       "        [ 8,  6,  5],\n",
       "        [ 8,  6,  5]]], dtype=uint8)"
      ]
     },
     "execution_count": 6,
     "metadata": {},
     "output_type": "execute_result"
    }
   ],
   "source": [
    "# Copying the image and checking whether contours are matching.\n",
    "copy_img = img.copy()\n",
    "cv2.drawContours(copy_img, contours, -1, (0,255,0), 1)"
   ]
  },
  {
   "cell_type": "code",
   "execution_count": 7,
   "metadata": {},
   "outputs": [],
   "source": [
    "total = copy_img.shape[0] + copy_img.shape[1]"
   ]
  },
  {
   "cell_type": "code",
   "execution_count": 8,
   "metadata": {},
   "outputs": [
    {
     "data": {
      "text/plain": [
       "True"
      ]
     },
     "execution_count": 8,
     "metadata": {},
     "output_type": "execute_result"
    }
   ],
   "source": [
    "show_image(\"contour\", copy_img)\n",
    "cv2.imwrite(\"contour_final.jpg\", copy_img)"
   ]
  },
  {
   "cell_type": "code",
   "execution_count": 9,
   "metadata": {},
   "outputs": [],
   "source": [
    "# Calculating Area for each Contour\n",
    "area = []\n",
    "sorted_contours = sorted(contours, key=cv2.contourArea, reverse=True)\n",
    "for c in sorted_contours:\n",
    "    area.append(cv2.contourArea(c))"
   ]
  },
  {
   "cell_type": "code",
   "execution_count": 10,
   "metadata": {},
   "outputs": [],
   "source": [
    "# Getting the top Indices of contoured Images that matter\n",
    "top_indices = [i for i in range(len(area)) if area[i] > np.mean(area)]"
   ]
  },
  {
   "cell_type": "code",
   "execution_count": 11,
   "metadata": {},
   "outputs": [
    {
     "data": {
      "text/plain": [
       "[0, 1, 2]"
      ]
     },
     "execution_count": 11,
     "metadata": {},
     "output_type": "execute_result"
    }
   ],
   "source": [
    "top_indices"
   ]
  },
  {
   "cell_type": "code",
   "execution_count": 12,
   "metadata": {},
   "outputs": [],
   "source": [
    "# Cropping out Images that matter\n",
    "image_data = np.zeros((len(top_indices), 4), dtype=int)\n",
    "actual_images = []\n",
    "for i in top_indices:\n",
    "    x,y,w,h = cv2.boundingRect(sorted_contours[i])\n",
    "    ROI = img[y:y+h, x:x+w]\n",
    "    image_data[i] = np.array([x, y, w, h])\n",
    "    actual_images.append(ROI)"
   ]
  },
  {
   "cell_type": "code",
   "execution_count": 13,
   "metadata": {},
   "outputs": [],
   "source": [
    "# Calling the OCR Engine\n",
    "try:\n",
    "    from PIL import Image\n",
    "except ImportError:\n",
    "    import Image\n",
    "import pytesseract\n",
    "\n",
    "# If you don't have tesseract executable in your PATH, include the following:\n",
    "pytesseract.pytesseract.tesseract_cmd = r'D:/Tesseract/tesseract.exe'"
   ]
  },
  {
   "cell_type": "code",
   "execution_count": 14,
   "metadata": {},
   "outputs": [
    {
     "data": {
      "text/plain": [
       "array([[ 191,   55, 1097, 1337],\n",
       "       [ 113, 1853,  671,  483],\n",
       "       [1336, 2021,  527,  315]])"
      ]
     },
     "execution_count": 14,
     "metadata": {},
     "output_type": "execute_result"
    }
   ],
   "source": [
    "image_data"
   ]
  },
  {
   "cell_type": "code",
   "execution_count": 15,
   "metadata": {},
   "outputs": [],
   "source": [
    "(x_total, y_total, _) = img.shape"
   ]
  },
  {
   "cell_type": "code",
   "execution_count": 16,
   "metadata": {},
   "outputs": [],
   "source": [
    "index = image_data[:,0]/x_total + image_data[:,1]/y_total"
   ]
  },
  {
   "cell_type": "code",
   "execution_count": 17,
   "metadata": {},
   "outputs": [],
   "source": [
    "image_data = np.column_stack((index, image_data))"
   ]
  },
  {
   "cell_type": "code",
   "execution_count": 18,
   "metadata": {},
   "outputs": [],
   "source": [
    "import pandas as pd\n",
    "final_data = pd.DataFrame(image_data, columns=['i','x','y','w','h'])"
   ]
  },
  {
   "cell_type": "code",
   "execution_count": 19,
   "metadata": {},
   "outputs": [],
   "source": [
    "sortis = final_data.sort_values(by=['i']).index"
   ]
  },
  {
   "cell_type": "code",
   "execution_count": 20,
   "metadata": {},
   "outputs": [
    {
     "data": {
      "text/plain": [
       "Int64Index([0, 1, 2], dtype='int64')"
      ]
     },
     "execution_count": 20,
     "metadata": {},
     "output_type": "execute_result"
    }
   ],
   "source": [
    "sortis"
   ]
  },
  {
   "cell_type": "code",
   "execution_count": 21,
   "metadata": {},
   "outputs": [
    {
     "name": "stdout",
     "output_type": "stream",
     "text": [
      "ATTENTION,\n",
      "NEW YORKERS--\n",
      "--ALL\n",
      "\n",
      "7,927,285\n",
      "OF YOU.\n",
      "\n",
      "FOR THOSE UNFAMILIAR\n",
      "WITH ME, I AM THE 7A/VKER.\n",
      "I AM THE SOURCE\n",
      "OF THESE GRAY VERMIN,\n",
      "MINIATURE REPLICAS OF MY\n",
      "AWESOME ANPRO/O.\n",
      "\n",
      "IN CASE\n",
      "YOU WERE EVER\n",
      "CURIOUS, ATA\n",
      "RATIO OF 1-TO-2.879,\n",
      "I CALCULATE THE\n",
      "NUMBER OF RATS\n",
      "IN MANHATTAN WITHIN FOUR\n",
      "\n",
      "AT 22,822,654. HOURS, AT\n",
      "THEIR CURRENT\n",
      "RATE OF DUPLICATION, MY\n",
      "MINI-ANDROIDS WILL EXCEED THE\n",
      "RAT POPULATION BY 522.4%--\n",
      "\n",
      "--UNLESS TAM\n",
      "PAlO EXACTLY\n",
      "\n",
      "ONE 8/LL10N\n",
      "DOLLARS’\n",
      "\n",
      "WORTH OF\n",
      "VIBRAMIUM er\n",
      "MIOMIGHT!\n",
      "SADLY, IT PREDICT\n",
      "THE CITY WILL\n",
      "PAY MY RANSOM\n",
      "\n",
      "62 MINUTES LATE,\n",
      "RESULTING IN THE\n",
      "\n",
      "UNNECESSARY LOSS\n",
      "\n",
      "OF 382 LIVES\n",
      "\n",
      "AND £426.9M\n",
      "\n",
      "IN DAMAGE.\n",
      "MOST OF YOUR\n",
      "COSTUMED HEROES,\n",
      "SUCH AS SP/DER-MAN\n",
      "AND BAREDEVIL,\n",
      "WILL BE TOO BUSY\n",
      "RESCUING (WNOCENTS\n",
      "TO STOP ME.\n",
      "ONLY THE NEw,\n",
      "CAN COME CLOSE\n",
      "\n",
      "TO OPPOS/ING ME...\n",
      "\n",
      " \n",
      "  \n",
      "  \n",
      "\n",
      "POWER LEVELS,\n",
      "THEIR CHANCE OF\n",
      "SUCCESS RESTS\n",
      "AT 2.9%!\n"
     ]
    }
   ],
   "source": [
    "for i in sortis:\n",
    "    cv2.imwrite('manga_test_images/%d.png'%i,actual_images[i])\n",
    "    print(pytesseract.image_to_string(actual_images[i], timeout=4))"
   ]
  },
  {
   "cell_type": "code",
   "execution_count": 22,
   "metadata": {},
   "outputs": [],
   "source": [
    "sample = img.copy()\n",
    "image_data = image_data.astype(int)"
   ]
  },
  {
   "cell_type": "code",
   "execution_count": 23,
   "metadata": {},
   "outputs": [],
   "source": [
    "import re\n",
    "from PIL import Image, ImageDraw, ImageFont\n",
    "import textwrap\n",
    "from googletrans import Translator\n",
    "\n",
    "translator = Translator()\n",
    "\n",
    "for i in sortis:\n",
    "    # Extracting Text from the Image\n",
    "    some_text = pytesseract.image_to_string(actual_images[i], timeout=4)\n",
    "    some_text = re.sub(r'\\n\\s*\\n', ' ', some_text) \n",
    "    [_, x1, y1, w1, h1] = image_data[i]\n",
    "    some_text = textwrap.wrap(some_text, width=20)\n",
    "    whole_text = \"\"\n",
    "    for one in some_text:\n",
    "        whole_text += one + \"\\n\"\n",
    "    balloon_box = Image.new('RGB', (w1, h1), color = (255, 255, 255))\n",
    "    \n",
    "    # Translating Text before writing\n",
    "    whole_text = translator.translate(whole_text, src='en', dest='fr')\n",
    "    \n",
    "    # Writing Text onto the newly created Image\n",
    "    d = ImageDraw.Draw(balloon_box)\n",
    "    font = ImageFont.truetype(\"fonts/SF_Arch_Rival.ttf\", size=25)\n",
    "    d.text((10,10), whole_text.text, fill=(0,0,0), align=\"left\", font=font)\n",
    "    \n",
    "    # Converting Image to BGR format suited for Opencv and constructing Borders\n",
    "    opencvImage = cv2.cvtColor(np.array(balloon_box), cv2.COLOR_RGB2BGR)\n",
    "    opencvImage = cv2.copyMakeBorder(src=opencvImage,top=5,bottom=5,left=5,right=5,borderType=cv2.BORDER_CONSTANT, value=[0,0,0])\n",
    "    \n",
    "    # Superimposing images on the Comic Image\n",
    "    sample[y1:opencvImage.shape[0]+y1,x1:opencvImage.shape[1]+x1,:] = opencvImage"
   ]
  },
  {
   "cell_type": "code",
   "execution_count": 24,
   "metadata": {},
   "outputs": [
    {
     "data": {
      "text/plain": [
       "True"
      ]
     },
     "execution_count": 24,
     "metadata": {},
     "output_type": "execute_result"
    }
   ],
   "source": [
    "cv2.imwrite(\"output.jpg\", sample)"
   ]
  },
  {
   "cell_type": "code",
   "execution_count": null,
   "metadata": {},
   "outputs": [],
   "source": []
  }
 ],
 "metadata": {
  "kernelspec": {
   "display_name": "Python 3",
   "language": "python",
   "name": "python3"
  },
  "language_info": {
   "codemirror_mode": {
    "name": "ipython",
    "version": 3
   },
   "file_extension": ".py",
   "mimetype": "text/x-python",
   "name": "python",
   "nbconvert_exporter": "python",
   "pygments_lexer": "ipython3",
   "version": "3.7.3"
  }
 },
 "nbformat": 4,
 "nbformat_minor": 2
}

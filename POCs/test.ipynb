{
 "cells": [
  {
   "cell_type": "code",
   "execution_count": 4,
   "metadata": {},
   "outputs": [],
   "source": [
    "try:\n",
    "    from PIL import Image\n",
    "except ImportError:\n",
    "    import Image\n",
    "import pytesseract\n",
    "\n",
    "# If you don't have tesseract executable in your PATH, include the following:\n",
    "pytesseract.pytesseract.tesseract_cmd = r'D:/Tesseract/tesseract.exe'"
   ]
  },
  {
   "cell_type": "code",
   "execution_count": 6,
   "metadata": {},
   "outputs": [
    {
     "name": "stdout",
     "output_type": "stream",
     "text": [
      "CHICKEN WiNGS\n",
      "\n",
      "WHAT IS HE DOING?\n",
      "\n",
      "HE IS\n",
      "TAKING A FUEL\n",
      "SAMPLE.\n",
      "\n",
      " \n",
      "\n",
      "© Michael and Stefan Strasser - 997\n",
      "\n",
      "TO MAKE SURE\n",
      "THERE IS NO WATER OR\n",
      "IMPURITIES IN THE FUEL.\n",
      "\n",
      " \n",
      "\n",
      "AND WHAT IS\n",
      "THAT THING\n",
      "HE'S HOLDING?\n",
      "\n",
      " \n",
      "\n",
      " \n",
      "\n",
      "BY MICHAEL AND STEFAN STRASSER\n",
      "\n",
      "www.chickenwingscomics.com\n",
      "\n",
      "WHEN YOU DO\n",
      "IT'S DESIGNED | IT RIGHT ...\n",
      "TO OFEN THE.\n",
      "VALVE AND CATCH\n",
      "... AND NOT STAND\n",
      "THE FUEL: DOWNWIND WHILE\n",
      "YOU DO IT ...\n",
      "NORMALLY.\n"
     ]
    }
   ],
   "source": [
    "print(pytesseract.image_to_string('wings.jpg', timeout=4))"
   ]
  },
  {
   "cell_type": "code",
   "execution_count": 9,
   "metadata": {},
   "outputs": [
    {
     "name": "stdout",
     "output_type": "stream",
     "text": [
      "[[[  0   0 255]]]\n"
     ]
    }
   ],
   "source": [
    "import numpy as np\n",
    "import cv2\n",
    "\n",
    "green = np.uint8([[[255,255,255 ]]])\n",
    "hsv_green = cv2.cvtColor(green,cv2.COLOR_BGR2HSV)\n",
    "print(hsv_green)"
   ]
  },
  {
   "cell_type": "code",
   "execution_count": null,
   "metadata": {},
   "outputs": [],
   "source": []
  }
 ],
 "metadata": {
  "kernelspec": {
   "display_name": "Python 3",
   "language": "python",
   "name": "python3"
  },
  "language_info": {
   "codemirror_mode": {
    "name": "ipython",
    "version": 3
   },
   "file_extension": ".py",
   "mimetype": "text/x-python",
   "name": "python",
   "nbconvert_exporter": "python",
   "pygments_lexer": "ipython3",
   "version": "3.7.3"
  }
 },
 "nbformat": 4,
 "nbformat_minor": 2
}
